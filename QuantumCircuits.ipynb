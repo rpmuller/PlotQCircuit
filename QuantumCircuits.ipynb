{
 "cells": [
  {
   "cell_type": "markdown",
   "metadata": {},
   "source": [
    "# Notes on quantum programming tools in python\n",
    "\n",
    "The idea behind this effort is to explore whether it is possible to create a set of tools that covers everything that Quipper currently does, but using much simpler tools. Quipper is amazing and expressive, and mathematicians love the rigor provided by its type system, but it isn't clear to me that we couldn't make something equally simple.\n",
    "\n",
    "I'm envisioning this being part of a simulation toolkit with:\n",
    "\n",
    "- Ways to generate circuits (algorithms);\n",
    "- Ways to optimally schedule circuits;\n",
    "- Ways to simulate circuits, using full vector state or stabilizer simulators;\n",
    "- Ways to plot the circuits.\n",
    "\n",
    "The effort I'm describing here consists of the first of these. [Another notebook](https://github.com/rpmuller/PlotQCircuit/blob/master/PlotQCircuit.ipynb) investigates plotting tools.\n"
   ]
  },
  {
   "cell_type": "markdown",
   "metadata": {},
   "source": [
    "## Create a python object for the circuit\n",
    "For a lot of reasons, it's convenient to have a single object (which we're calling the \"circuit\" here) to keep track of the objects. The main reason why is that it's good to have a single list to keep track of all of the gates. You can try to store these in the qubits, but you lose the order information."
   ]
  },
  {
   "cell_type": "code",
   "execution_count": 97,
   "metadata": {
    "collapsed": true
   },
   "outputs": [],
   "source": [
    "%matplotlib inline\n",
    "from plot_quantum_circuit import plot_quantum_circuit\n",
    "\n",
    "class QCircuit:\n",
    "    def __init__(self):\n",
    "        self._gates = []\n",
    "        self._qubits = []\n",
    "        self._inits = {}\n",
    "        return\n",
    "    \n",
    "    def reset(self): \n",
    "        \"Just reset the gates, not the qubits\"\n",
    "        self._gates = []\n",
    "        return\n",
    "        \n",
    "    def qubit(self,s,initval=0):\n",
    "        q = Qubit(s,initval,self)\n",
    "        self._inits[s] = initval\n",
    "        self._qubits.append(q)\n",
    "        return q\n",
    "    \n",
    "    def qubits(self,*qs):\n",
    "        \"\"\"Initialize qubits given a list of label, initval, label2, ... values\n",
    "        \"\"\"\n",
    "        n = len(qs)/2\n",
    "        qubits = []\n",
    "        for i in range(n):\n",
    "            qubits.append(self.qubit(qs[2*i],qs[2*i+1]))\n",
    "        return qubits\n",
    "    \n",
    "    def zeros(self,ls):\n",
    "        \"Initialize qubits given a list of strings\"\n",
    "        return [self.qubit(l) for l in ls]\n",
    "    \n",
    "    def plot(self):\n",
    "        labels = [q.symbol for q in self._qubits]\n",
    "        plot_quantum_circuit(self._gates,self._inits,labels)\n",
    "\n",
    "class Qubit:\n",
    "    def __init__(self,symbol='', init=None, circuit = None):\n",
    "        self.symbol = symbol\n",
    "        self.init = init\n",
    "        self.circuit = circuit\n",
    "        return\n",
    "\n",
    "class Gate:\n",
    "    def __init__(self,symbol='',unitary=None):\n",
    "        self.symbol = symbol\n",
    "        self.unitary = unitary\n",
    "        return\n",
    "    \n",
    "    def __call__(self,*qubits):\n",
    "        circuit = qubits[0].circuit\n",
    "        # TODO: put in a check to make sure all qubits are from the same circuit\n",
    "        circuit._gates.append(tuple([self.symbol]+[qubit.symbol for qubit in qubits]))"
   ]
  },
  {
   "cell_type": "code",
   "execution_count": 117,
   "metadata": {},
   "outputs": [],
   "source": [
    "# Define some basic gates\n",
    "X = Gate('X')\n",
    "Z = Gate('Z')\n",
    "H = Gate('H')\n",
    "M = Gate('M')\n",
    "CNOT = Gate('CNOT')\n",
    "CX = Gate('CX')\n",
    "CZ = Gate('CZ')\n",
    "CR = [Gate(r'$R(2\\pi/%d)$' % 2**i) for i in range(20)]"
   ]
  },
  {
   "cell_type": "code",
   "execution_count": 99,
   "metadata": {},
   "outputs": [],
   "source": [
    "c = QCircuit()\n",
    "qa,qb = c.zeros('ab')\n",
    "H(qa)\n",
    "CNOT(qb,qa)"
   ]
  },
  {
   "cell_type": "code",
   "execution_count": 100,
   "metadata": {},
   "outputs": [
    {
     "data": {
      "image/png": "[encoded data removed]",
      "text/plain": [
       "<matplotlib.figure.Figure at 0x114f19090>"
      ]
     },
     "metadata": {},
     "output_type": "display_data"
    }
   ],
   "source": [
    "c.plot()"
   ]
  },
  {
   "cell_type": "markdown",
   "metadata": {},
   "source": [
    "This has roughly the responsibilities and performances that I wanted. "
   ]
  },
  {
   "cell_type": "markdown",
   "metadata": {},
   "source": [
    "### Examples taken from the Quipper manual.\n",
    "As a way to determine whether this idea works at all, I'm going to see what\n",
    "the various circuits in \"An Introduction to Quantum Programming in Quipper\" (arXiv 1304.5485) look like. \n",
    "\n",
    "Sect 2.1 has the following circuit for *plus_minus*:"
   ]
  },
  {
   "cell_type": "code",
   "execution_count": 101,
   "metadata": {
    "collapsed": true
   },
   "outputs": [],
   "source": [
    "def plus_minus(q):\n",
    "    H(q)"
   ]
  },
  {
   "cell_type": "markdown",
   "metadata": {},
   "source": [
    "They then define a printing function, which in our system, would consist of:"
   ]
  },
  {
   "cell_type": "code",
   "execution_count": 102,
   "metadata": {},
   "outputs": [
    {
     "data": {
      "image/png": "[encoded data removed]",
      "text/plain": [
       "<matplotlib.figure.Figure at 0x114fa73d0>"
      ]
     },
     "metadata": {},
     "output_type": "display_data"
    }
   ],
   "source": [
    "c = QCircuit()\n",
    "qa,qb = c.zeros('ab')\n",
    "plus_minus(qa)\n",
    "c.plot()"
   ]
  },
  {
   "cell_type": "markdown",
   "metadata": {},
   "source": [
    "We can extend this with the *share* function:"
   ]
  },
  {
   "cell_type": "code",
   "execution_count": 103,
   "metadata": {},
   "outputs": [
    {
     "data": {
      "image/png": "[encoded data removed]",
      "text/plain": [
       "<matplotlib.figure.Figure at 0x114f56190>"
      ]
     },
     "metadata": {},
     "output_type": "display_data"
    }
   ],
   "source": [
    "def share(a,b):\n",
    "    CNOT(a,b)\n",
    "share(qb,qa)\n",
    "c.plot()"
   ]
  },
  {
   "cell_type": "markdown",
   "metadata": {},
   "source": [
    "This captures much of the intent of the original Quipper code in fairly lightweight python.\n",
    "\n",
    "Actually, I note that the original code didn't have an initialization for the a qubit. This is currently a little more complex, but still do-able:"
   ]
  },
  {
   "cell_type": "code",
   "execution_count": 104,
   "metadata": {},
   "outputs": [
    {
     "data": {
      "image/png": "[encoded data removed]",
      "text/plain": [
       "<matplotlib.figure.Figure at 0x1149fdf50>"
      ]
     },
     "metadata": {},
     "output_type": "display_data"
    }
   ],
   "source": [
    "c = QCircuit()\n",
    "qa = c.qubit('q_a',None)\n",
    "qb = c.qubit('q_b',0)\n",
    "plus_minus(qa)\n",
    "share(qb,qa)\n",
    "c.plot()\n"
   ]
  },
  {
   "cell_type": "markdown",
   "metadata": {},
   "source": [
    "There are still some subtle differences. The 'universe' in the python code where all of the qubits live is explicit, in the form of the quantum circuit, whereas its implicit in the Quipper code. It's not clear to me yet whether this will have any impact on the code flexibility.\n",
    "\n",
    "One place where this changes things is in the definition of the bell pair code. In Quipper, this is a function without arguments that returns two entangled qubits. We could do this in python as:"
   ]
  },
  {
   "cell_type": "code",
   "execution_count": 105,
   "metadata": {
    "collapsed": true
   },
   "outputs": [],
   "source": [
    "def make_bell_pair():\n",
    "    c = QCircuit()\n",
    "    a,b = c.zeros('ab')\n",
    "    H(a)\n",
    "    CNOT(b,a)\n",
    "    return a,b"
   ]
  },
  {
   "cell_type": "markdown",
   "metadata": {},
   "source": [
    "We then return just the qubits, but we can get the circuit from either of them:"
   ]
  },
  {
   "cell_type": "code",
   "execution_count": 106,
   "metadata": {},
   "outputs": [
    {
     "data": {
      "image/png": "[encoded data removed]",
      "text/plain": [
       "<matplotlib.figure.Figure at 0x114f4c8d0>"
      ]
     },
     "metadata": {},
     "output_type": "display_data"
    }
   ],
   "source": [
    "a,b = make_bell_pair()\n",
    "a.circuit.plot()"
   ]
  },
  {
   "cell_type": "markdown",
   "metadata": {},
   "source": [
    "We could equivalently make a .plot() function for the qubit that would do the same, or a .get_circuit() function that would return the circuit in a way that has a better separation of the interface from the implementation.\n",
    "\n",
    "However, I'm going to stick with what I'm doing, which is to have all qubits be allocated at the top level from the circuit, until the wheels fall off:"
   ]
  },
  {
   "cell_type": "code",
   "execution_count": 107,
   "metadata": {
    "collapsed": true
   },
   "outputs": [],
   "source": [
    "def bell(a,b):\n",
    "    H(a)\n",
    "    CNOT(b,a)\n",
    "    return"
   ]
  },
  {
   "cell_type": "markdown",
   "metadata": {},
   "source": [
    "### Measurement\n",
    "Measurement is something of a problem. We will simply return the qubit reference after measurement. Currently the circuit plotter just doubles all of the qubit lines after a measurement operation (which is a hack, defined as an operation that starts with 'M'). Ideally, the Qubit object itself should 'know' that it has been measured. Distinguishing between quantum, classical and boolean states is something that Quipper does well."
   ]
  },
  {
   "cell_type": "code",
   "execution_count": 108,
   "metadata": {
    "collapsed": true
   },
   "outputs": [],
   "source": [
    "def alice(q,a):\n",
    "    CNOT(a,q)\n",
    "    H(q)\n",
    "    M(q)\n",
    "    M(a)\n",
    "    return q,a"
   ]
  },
  {
   "cell_type": "code",
   "execution_count": 109,
   "metadata": {},
   "outputs": [
    {
     "data": {
      "image/png": "[encoded data removed]",
      "text/plain": [
       "<matplotlib.figure.Figure at 0x111293dd0>"
      ]
     },
     "metadata": {},
     "output_type": "display_data"
    }
   ],
   "source": [
    "c = QCircuit()\n",
    "a,b = c.qubits('a',None,'b',None)\n",
    "alice(a,b)\n",
    "c.plot()"
   ]
  },
  {
   "cell_type": "code",
   "execution_count": 110,
   "metadata": {
    "collapsed": true
   },
   "outputs": [],
   "source": [
    "CZ = Gate('CZ')\n",
    "CX = Gate('CX')\n",
    "def bob(b,x,y):\n",
    "    CX(b,y)\n",
    "    CZ(b,x)\n",
    "    return\n",
    "    "
   ]
  },
  {
   "cell_type": "code",
   "execution_count": 111,
   "metadata": {},
   "outputs": [
    {
     "data": {
      "image/png": "[encoded data removed]",
      "text/plain": [
       "<matplotlib.figure.Figure at 0x111249410>"
      ]
     },
     "metadata": {},
     "output_type": "display_data"
    }
   ],
   "source": [
    "c = QCircuit()\n",
    "b,x,y = c.qubits('b',0,'x',0,'y',0)\n",
    "bob(b,x,y)\n",
    "c.plot()"
   ]
  },
  {
   "cell_type": "code",
   "execution_count": 112,
   "metadata": {
    "collapsed": true
   },
   "outputs": [],
   "source": [
    "def teleport(q,a,b):\n",
    "    bell(a,b)\n",
    "    x,y = alice(q,a)\n",
    "    bob(b,x,y)\n",
    "    return b"
   ]
  },
  {
   "cell_type": "code",
   "execution_count": 113,
   "metadata": {},
   "outputs": [
    {
     "data": {
      "image/png": "[encoded data removed]",
      "text/plain": [
       "<matplotlib.figure.Figure at 0x11499b410>"
      ]
     },
     "metadata": {},
     "output_type": "display_data"
    }
   ],
   "source": [
    "c = QCircuit()\n",
    "q = c.qubit('q',None)\n",
    "a,b = c.qubits('a',0,'b',0)\n",
    "teleport(q,a,b)\n",
    "c.plot()"
   ]
  },
  {
   "cell_type": "markdown",
   "metadata": {},
   "source": [
    "Now that we've abstracted the teleportation circuit, we can apply it to multiple qubits:"
   ]
  },
  {
   "cell_type": "code",
   "execution_count": 114,
   "metadata": {},
   "outputs": [
    {
     "data": {
      "image/png": "[encoded data removed]",
      "text/plain": [
       "<matplotlib.figure.Figure at 0x114c09310>"
      ]
     },
     "metadata": {},
     "output_type": "display_data"
    }
   ],
   "source": [
    "c = QCircuit()\n",
    "q,q2,a,a2,b,b2 = c.qubits('q',None,'q2',None,'a',0,'a2',0,'b',0,'b2',0)\n",
    "teleport(q,a,b)\n",
    "teleport(q2,a2,b2)\n",
    "c.plot()"
   ]
  },
  {
   "cell_type": "markdown",
   "metadata": {},
   "source": [
    "## QFT\n",
    "It's fairly straightforward to create circuits for QFTs:"
   ]
  },
  {
   "cell_type": "code",
   "execution_count": 115,
   "metadata": {
    "collapsed": true
   },
   "outputs": [],
   "source": [
    "def qft(*qs):\n",
    "    for i,q in enumerate(qs):\n",
    "        for j in range(i):\n",
    "            CR[i-j+1](qs[j],q)\n",
    "        H(q)\n",
    "    return qs\n",
    "        "
   ]
  },
  {
   "cell_type": "code",
   "execution_count": 116,
   "metadata": {},
   "outputs": [
    {
     "data": {
      "image/png": "[encoded data removed]",
      "text/plain": [
       "<matplotlib.figure.Figure at 0x114e4bb90>"
      ]
     },
     "metadata": {},
     "output_type": "display_data"
    }
   ],
   "source": [
    "qc = QCircuit()\n",
    "a,b,c,d = qc.qubits('a',None,'b',None,'c',None,'d',None)\n",
    "qft(a,b,c,d)\n",
    "qc.plot()"
   ]
  },
  {
   "cell_type": "code",
   "execution_count": null,
   "metadata": {
    "collapsed": true
   },
   "outputs": [],
   "source": []
  }
 ],
 "metadata": {
  "kernelspec": {
   "display_name": "Python 2",
   "language": "python",
   "name": "python2"
  },
  "language_info": {
   "codemirror_mode": {
    "name": "ipython",
    "version": 2
   },
   "file_extension": ".py",
   "mimetype": "text/x-python",
   "name": "python",
   "nbconvert_exporter": "python",
   "pygments_lexer": "ipython2",
   "version": "2.7.13"
  }
 },
 "nbformat": 4,
 "nbformat_minor": 2
}
